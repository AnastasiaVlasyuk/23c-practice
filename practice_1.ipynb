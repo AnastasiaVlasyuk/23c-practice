{
 "cells": [
  {
   "cell_type": "markdown",
   "id": "a1559051",
   "metadata": {},
   "source": [
    "## List"
   ]
  },
  {
   "cell_type": "code",
   "execution_count": null,
   "id": "df5a9883",
   "metadata": {},
   "outputs": [],
   "source": [
    "cities = [\"New York\", \"Miami\", \"Chicago\", \"San Francisco\", \"Los Angeles\"]\n",
    "print (cities)"
   ]
  },
  {
   "cell_type": "code",
   "execution_count": 3,
   "id": "2369135a",
   "metadata": {},
   "outputs": [
    {
     "name": "stdout",
     "output_type": "stream",
     "text": [
      "['New York', 'Miami', 'Chicago', 'San Francisco', 'Los Angeles', 'Washington DC', 'Washington DC']\n"
     ]
    }
   ],
   "source": [
    "cities.append (\"Washington DC\")\n",
    "print (cities)"
   ]
  },
  {
   "cell_type": "code",
   "execution_count": 4,
   "id": "3e222c22",
   "metadata": {},
   "outputs": [
    {
     "name": "stdout",
     "output_type": "stream",
     "text": [
      "['New York', 'Chicago', 'San Francisco', 'Los Angeles', 'Washington DC', 'Washington DC']\n"
     ]
    }
   ],
   "source": [
    "cities.pop(1)\n",
    "print (cities)"
   ]
  },
  {
   "cell_type": "code",
   "execution_count": 5,
   "id": "97f3abe4",
   "metadata": {},
   "outputs": [
    {
     "name": "stdout",
     "output_type": "stream",
     "text": [
      "Los Angeles\n"
     ]
    }
   ],
   "source": [
    "print (cities[3])"
   ]
  },
  {
   "cell_type": "code",
   "execution_count": 6,
   "id": "1fcbf2ef",
   "metadata": {},
   "outputs": [
    {
     "name": "stdout",
     "output_type": "stream",
     "text": [
      "[10, 20, 30, 40, 50, 60]\n",
      "[30, 40, 50]\n"
     ]
    }
   ],
   "source": [
    "list = [10, 20, 30, 40, 50, 60]\n",
    "sub_list = (list[2:5])\n",
    "print (list)\n",
    "print (sub_list)"
   ]
  },
  {
   "cell_type": "code",
   "execution_count": 9,
   "id": "8193d39b",
   "metadata": {},
   "outputs": [
    {
     "name": "stdout",
     "output_type": "stream",
     "text": [
      "[['Anna', 25, 'Blue'], ['John', 27, 'Orange'], ['Mary', 28, 'Red']]\n"
     ]
    }
   ],
   "source": [
    "people = [[\"Anna\", 25, \"Blue\"], [\"John\", 27, \"Orange\"], [\"Mary\", 28, \"Red\"]]\n",
    "print (people)"
   ]
  },
  {
   "cell_type": "markdown",
   "id": "e3721272",
   "metadata": {},
   "source": [
    "## Dictionaries"
   ]
  },
  {
   "cell_type": "code",
   "execution_count": 15,
   "id": "7f52afc6",
   "metadata": {},
   "outputs": [
    {
     "name": "stdout",
     "output_type": "stream",
     "text": [
      "{'title': 'The Choice', 'author': 'Eva Eger', 'published year': 2017}\n"
     ]
    }
   ],
   "source": [
    "book = {\n",
    "    \"title\" : \"The Choice\",\n",
    "    \"author\" : \"Eva Eger\",\n",
    "    \"published year\" : 2017\n",
    "}\n",
    "print (book)"
   ]
  },
  {
   "cell_type": "code",
   "execution_count": 16,
   "id": "c2db41df",
   "metadata": {},
   "outputs": [
    {
     "name": "stdout",
     "output_type": "stream",
     "text": [
      "{'title': 'The Choice', 'author': 'Eva Eger', 'published year': 2023}\n"
     ]
    }
   ],
   "source": [
    "book [\"published year\"] = 2023\n",
    "print (book)"
   ]
  },
  {
   "cell_type": "code",
   "execution_count": 17,
   "id": "e1a8d106",
   "metadata": {},
   "outputs": [
    {
     "data": {
      "text/plain": [
       "dict_keys(['title', 'author', 'published year'])"
      ]
     },
     "execution_count": 17,
     "metadata": {},
     "output_type": "execute_result"
    }
   ],
   "source": [
    "book.keys()"
   ]
  },
  {
   "cell_type": "code",
   "execution_count": 18,
   "id": "0314e7e9",
   "metadata": {},
   "outputs": [
    {
     "name": "stdout",
     "output_type": "stream",
     "text": [
      "{'name': 'John', 'address': {'city': 'NY', 'zipcode': '10001'}}\n",
      "10001\n"
     ]
    }
   ],
   "source": [
    "person = {\"name\": \"John\", \"address\": {\"city\": \"NY\", \"zipcode\": \"10001\"}}\n",
    "print (person)\n",
    "print (person[\"address\"][\"zipcode\"])"
   ]
  },
  {
   "cell_type": "markdown",
   "id": "b372ae1b",
   "metadata": {},
   "source": [
    "## Tuples"
   ]
  },
  {
   "cell_type": "code",
   "execution_count": 22,
   "id": "084c74f6",
   "metadata": {},
   "outputs": [
    {
     "name": "stdout",
     "output_type": "stream",
     "text": [
      "('Erin Brockovich', 'Home Alone', 'Avatar')\n"
     ]
    }
   ],
   "source": [
    "movies = (\"Erin Brockovich\", \"Home Alone\", \"Avatar\")\n",
    "print (movies)"
   ]
  },
  {
   "cell_type": "code",
   "execution_count": 24,
   "id": "5a309e21",
   "metadata": {},
   "outputs": [
    {
     "name": "stdout",
     "output_type": "stream",
     "text": [
      "Love this movie\n"
     ]
    }
   ],
   "source": [
    "if \"Avatar\" in movies:\n",
    "          print (\"Love this movie\")\n",
    "else:\n",
    "          print (\"Watch it!\")"
   ]
  },
  {
   "cell_type": "code",
   "execution_count": 25,
   "id": "84f66d74",
   "metadata": {},
   "outputs": [
    {
     "ename": "TypeError",
     "evalue": "'tuple' object does not support item assignment",
     "output_type": "error",
     "traceback": [
      "\u001b[0;31m---------------------------------------------------------------------------\u001b[0m",
      "\u001b[0;31mTypeError\u001b[0m                                 Traceback (most recent call last)",
      "Cell \u001b[0;32mIn[25], line 1\u001b[0m\n\u001b[0;32m----> 1\u001b[0m movies[\u001b[38;5;241m1\u001b[39m] \u001b[38;5;241m=\u001b[39m \u001b[38;5;124m\"\u001b[39m\u001b[38;5;124mTitanic\u001b[39m\u001b[38;5;124m\"\u001b[39m\n",
      "\u001b[0;31mTypeError\u001b[0m: 'tuple' object does not support item assignment"
     ]
    }
   ],
   "source": [
    "#Immutable-can't be changed\n",
    "movies[1] = \"Titanic\""
   ]
  },
  {
   "cell_type": "markdown",
   "id": "61e1edb1",
   "metadata": {},
   "source": [
    "## Sets"
   ]
  },
  {
   "cell_type": "code",
   "execution_count": 26,
   "id": "4237d7cc",
   "metadata": {},
   "outputs": [
    {
     "name": "stdout",
     "output_type": "stream",
     "text": [
      "{'orange', 'apple', 'peach'}\n"
     ]
    }
   ],
   "source": [
    "fruits = {\"apple\", \"orange\", \"peach\"}\n",
    "print (fruits)"
   ]
  },
  {
   "cell_type": "code",
   "execution_count": 27,
   "id": "a9964667",
   "metadata": {},
   "outputs": [
    {
     "name": "stdout",
     "output_type": "stream",
     "text": [
      "{'orange', 'pear', 'apple', 'peach'}\n"
     ]
    }
   ],
   "source": [
    "fruits.add(\"pear\")\n",
    "print (fruits)"
   ]
  },
  {
   "cell_type": "code",
   "execution_count": 28,
   "id": "0e7b05d9",
   "metadata": {},
   "outputs": [
    {
     "name": "stdout",
     "output_type": "stream",
     "text": [
      "I have an apple\n"
     ]
    }
   ],
   "source": [
    "if \"apple\" in fruits:\n",
    "    print (\"I have an apple\")\n",
    "else:\n",
    "    print (\"I dont have an apple\")"
   ]
  },
  {
   "cell_type": "code",
   "execution_count": 29,
   "id": "3e1c5735",
   "metadata": {},
   "outputs": [
    {
     "name": "stdout",
     "output_type": "stream",
     "text": [
      "{3, 4}\n"
     ]
    }
   ],
   "source": [
    "A = {1, 2, 3, 4}\n",
    "B = {3, 4, 5, 6}\n",
    "intersection = set.intersection(A,B)\n",
    "print (intersection)"
   ]
  },
  {
   "cell_type": "code",
   "execution_count": 30,
   "id": "5c4e46fd",
   "metadata": {},
   "outputs": [
    {
     "name": "stdout",
     "output_type": "stream",
     "text": [
      "{1, 2, 3, 4, 5, 6}\n"
     ]
    }
   ],
   "source": [
    "union = A.union(B)\n",
    "print(union)"
   ]
  },
  {
   "cell_type": "markdown",
   "id": "19145c77",
   "metadata": {},
   "source": [
    "## Booleans"
   ]
  },
  {
   "cell_type": "code",
   "execution_count": 32,
   "id": "cb14537d",
   "metadata": {},
   "outputs": [
    {
     "data": {
      "text/plain": [
       "True"
      ]
     },
     "execution_count": 32,
     "metadata": {},
     "output_type": "execute_result"
    }
   ],
   "source": [
    "5 > 3\n"
   ]
  },
  {
   "cell_type": "code",
   "execution_count": 33,
   "id": "91aac508",
   "metadata": {},
   "outputs": [
    {
     "data": {
      "text/plain": [
       "True"
      ]
     },
     "execution_count": 33,
     "metadata": {},
     "output_type": "execute_result"
    }
   ],
   "source": [
    "5 > 8 or 3 < 4"
   ]
  },
  {
   "cell_type": "code",
   "execution_count": 34,
   "id": "97b5c9e2",
   "metadata": {},
   "outputs": [
    {
     "data": {
      "text/plain": [
       "False"
      ]
     },
     "execution_count": 34,
     "metadata": {},
     "output_type": "execute_result"
    }
   ],
   "source": [
    "a = 5\n",
    "b = 8\n",
    "a == b"
   ]
  },
  {
   "cell_type": "code",
   "execution_count": 35,
   "id": "114c83da",
   "metadata": {},
   "outputs": [
    {
     "data": {
      "text/plain": [
       "True"
      ]
     },
     "execution_count": 35,
     "metadata": {},
     "output_type": "execute_result"
    }
   ],
   "source": [
    "a != b"
   ]
  },
  {
   "cell_type": "code",
   "execution_count": null,
   "id": "5527a491",
   "metadata": {},
   "outputs": [],
   "source": []
  }
 ],
 "metadata": {
  "kernelspec": {
   "display_name": "Python 3 (ipykernel)",
   "language": "python",
   "name": "python3"
  },
  "language_info": {
   "codemirror_mode": {
    "name": "ipython",
    "version": 3
   },
   "file_extension": ".py",
   "mimetype": "text/x-python",
   "name": "python",
   "nbconvert_exporter": "python",
   "pygments_lexer": "ipython3",
   "version": "3.11.5"
  }
 },
 "nbformat": 4,
 "nbformat_minor": 5
}
